{
 "metadata": {
  "name": "",
  "signature": "sha256:16373875bf9d375e01e11ffd563cb977520b6f1d89dc787b44b4163424f8b3d4"
 },
 "nbformat": 3,
 "nbformat_minor": 0,
 "worksheets": [
  {
   "cells": [
    {
     "cell_type": "heading",
     "level": 3,
     "metadata": {},
     "source": [
      "Imports"
     ]
    },
    {
     "cell_type": "code",
     "collapsed": false,
     "input": [
      "import csv\n",
      "import pprint\n",
      "import uuid\n",
      "import random\n",
      "import numpy as np\n",
      "\n",
      "pp = pprint.PrettyPrinter(indent=4)"
     ],
     "language": "python",
     "metadata": {},
     "outputs": [],
     "prompt_number": 74
    },
    {
     "cell_type": "heading",
     "level": 3,
     "metadata": {},
     "source": [
      "Parse CSV"
     ]
    },
    {
     "cell_type": "code",
     "collapsed": false,
     "input": [
      "csv_questions = []\n",
      "with open('questions.csv', 'rb') as csvfile:\n",
      "    question_reader = csv.reader(csvfile, delimiter=',')\n",
      "    row_ct = 0\n",
      "    for row in question_reader:\n",
      "        if row_ct == 0:\n",
      "            col_labels = row\n",
      "        if row_ct > 0:\n",
      "            question_dict = {\"_id\": str(uuid.uuid4())} # add _id for reference later\n",
      "            element_ct = 0\n",
      "            for element in row:\n",
      "                if col_labels[element_ct] == \"order\":\n",
      "                    question_dict[col_labels[element_ct]] = int(element)\n",
      "                else:\n",
      "                    question_dict[col_labels[element_ct]] = str(unicode(element, 'ascii', 'ignore'))\n",
      "                element_ct += 1\n",
      "            csv_questions.append(question_dict)\n",
      "        row_ct += 1\n",
      "\n",
      "csvfile.close()\n",
      "csv_questions = sorted(csv_questions, key=lambda k: k['order']) # ordered by initial ordering\n",
      "# pp.pprint(csv_questions)"
     ],
     "language": "python",
     "metadata": {},
     "outputs": [],
     "prompt_number": 89
    },
    {
     "cell_type": "heading",
     "level": 3,
     "metadata": {},
     "source": [
      "Interleaving Function"
     ]
    },
    {
     "cell_type": "code",
     "collapsed": false,
     "input": [
      "def interleave(array1, array2):\n",
      "    return map(next, random.sample([iter(array1)]*len(array1) + [iter(array2)]*len(array2), len(array1)+len(array2)))\n",
      "    # SO thread for reference: http://stackoverflow.com/questions/10644925/randomly-interleave-2-arrays-in-python"
     ],
     "language": "python",
     "metadata": {},
     "outputs": [],
     "prompt_number": 76
    },
    {
     "cell_type": "heading",
     "level": 3,
     "metadata": {},
     "source": [
      "Create User Matrix"
     ]
    },
    {
     "cell_type": "code",
     "collapsed": false,
     "input": [
      "num_difficulty = {\"easy\": 0, \"medium\": 1, \"hard\": 2}\n",
      "\n",
      "list_groups = list(set([str(question['group']) for question in csv_questions]))\n",
      "num_groups = {}\n",
      "group_ct = 0\n",
      "for group in list_groups:\n",
      "    num_groups[group] = group_ct\n",
      "    group_ct += 1\n",
      "\n",
      "def initMatrix():\n",
      "    database_matrix = np.zeros((len(csv_questions),7), dtype=object)\n",
      "    for question_ct in range(len(csv_questions)):\n",
      "        \n",
      "        # Column 0 = Question ID\n",
      "        database_matrix[question_ct][0] = csv_questions[question_ct][\"_id\"]\n",
      "        \n",
      "        # Column 1 = Author-Defined Order\n",
      "        database_matrix[question_ct][1] = int(csv_questions[question_ct][\"order\"])\n",
      "        \n",
      "        # Column 2 = Author-Defined Difficulty\n",
      "        database_matrix[question_ct][2] = num_difficulty[str(csv_questions[question_ct][\"difficulty\"])]\n",
      "        \n",
      "        # Column 3 = Author-Defined Content Group\n",
      "        database_matrix[question_ct][3] = num_groups[str(csv_questions[question_ct][\"group\"])]\n",
      "        \n",
      "    return database_matrix\n",
      "\n",
      "def fakeUserData():\n",
      "    for question_ct in range(len(csv_questions)):\n",
      "        # Column 4 = Answered Last Session\n",
      "        # Yes and correctly = 2, Yes and incorrectly = 1, No answered last session = 0\n",
      "        database_matrix[question_ct][4] = random.randint(0,2)\n",
      "        \n",
      "        # Column 5 = Total Times Answered Correctly\n",
      "        # Numeric\n",
      "        \n",
      "        \n",
      "        # Column 6 = Total Times Answered\n",
      "        # Numeric\n",
      "        \n",
      "        # Column 7 = Time Question Was Last Seen\n",
      "        # Numeric\n",
      "    return database_matrix\n",
      "        \n",
      "\n",
      "initMatrix()\n",
      "fakeUserData()\n",
      "\n",
      "print database_matrix\n",
      "\n"
     ],
     "language": "python",
     "metadata": {},
     "outputs": [
      {
       "ename": "NameError",
       "evalue": "global name 'database_matrix' is not defined",
       "output_type": "pyerr",
       "traceback": [
        "\u001b[0;31m---------------------------------------------------------------------------\u001b[0m\n\u001b[0;31mNameError\u001b[0m                                 Traceback (most recent call last)",
        "\u001b[0;32m<ipython-input-94-c7f56ccdedcc>\u001b[0m in \u001b[0;36m<module>\u001b[0;34m()\u001b[0m\n\u001b[1;32m     45\u001b[0m \u001b[0;34m\u001b[0m\u001b[0m\n\u001b[1;32m     46\u001b[0m \u001b[0minitMatrix\u001b[0m\u001b[0;34m(\u001b[0m\u001b[0;34m)\u001b[0m\u001b[0;34m\u001b[0m\u001b[0m\n\u001b[0;32m---> 47\u001b[0;31m \u001b[0mfakeUserData\u001b[0m\u001b[0;34m(\u001b[0m\u001b[0;34m)\u001b[0m\u001b[0;34m\u001b[0m\u001b[0m\n\u001b[0m\u001b[1;32m     48\u001b[0m \u001b[0;34m\u001b[0m\u001b[0m\n\u001b[1;32m     49\u001b[0m \u001b[0;32mprint\u001b[0m \u001b[0mdatabase_matrix\u001b[0m\u001b[0;34m\u001b[0m\u001b[0m\n",
        "\u001b[0;32m<ipython-input-94-c7f56ccdedcc>\u001b[0m in \u001b[0;36mfakeUserData\u001b[0;34m()\u001b[0m\n\u001b[1;32m     30\u001b[0m         \u001b[0;31m# Column 4 = Answered Last Session\u001b[0m\u001b[0;34m\u001b[0m\u001b[0;34m\u001b[0m\u001b[0m\n\u001b[1;32m     31\u001b[0m         \u001b[0;31m# Yes and correctly = 2, Yes and incorrectly = 1, No answered last session = 0\u001b[0m\u001b[0;34m\u001b[0m\u001b[0;34m\u001b[0m\u001b[0m\n\u001b[0;32m---> 32\u001b[0;31m         \u001b[0mdatabase_matrix\u001b[0m\u001b[0;34m[\u001b[0m\u001b[0mquestion_ct\u001b[0m\u001b[0;34m]\u001b[0m\u001b[0;34m[\u001b[0m\u001b[0;36m4\u001b[0m\u001b[0;34m]\u001b[0m \u001b[0;34m=\u001b[0m \u001b[0mrandom\u001b[0m\u001b[0;34m.\u001b[0m\u001b[0mrandint\u001b[0m\u001b[0;34m(\u001b[0m\u001b[0;36m0\u001b[0m\u001b[0;34m,\u001b[0m\u001b[0;36m2\u001b[0m\u001b[0;34m)\u001b[0m\u001b[0;34m\u001b[0m\u001b[0m\n\u001b[0m\u001b[1;32m     33\u001b[0m \u001b[0;34m\u001b[0m\u001b[0m\n\u001b[1;32m     34\u001b[0m         \u001b[0;31m# Column 5 = Total Times Answered Correctly\u001b[0m\u001b[0;34m\u001b[0m\u001b[0;34m\u001b[0m\u001b[0m\n",
        "\u001b[0;31mNameError\u001b[0m: global name 'database_matrix' is not defined"
       ]
      }
     ],
     "prompt_number": 94
    },
    {
     "cell_type": "code",
     "collapsed": false,
     "input": [],
     "language": "python",
     "metadata": {},
     "outputs": [],
     "prompt_number": 64
    },
    {
     "cell_type": "code",
     "collapsed": false,
     "input": [],
     "language": "python",
     "metadata": {},
     "outputs": []
    }
   ],
   "metadata": {}
  }
 ]
}